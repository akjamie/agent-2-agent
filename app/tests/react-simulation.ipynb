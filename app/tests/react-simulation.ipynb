{
 "cells": [
  {
   "cell_type": "markdown",
   "id": "349e7ee8-0a8a-480b-b010-3643b66cb5cc",
   "metadata": {},
   "source": [
    "# React Agent Simulation using LangGraph"
   ]
  },
  {
   "cell_type": "code",
   "id": "dc2809ef2ec9e9e2",
   "metadata": {
    "ExecuteTime": {
     "end_time": "2025-10-06T07:37:28.896394Z",
     "start_time": "2025-10-06T07:37:28.891993Z"
    }
   },
   "source": [
    "import sys\n",
    "import os\n",
    "from langgraph.graph import StateGraph\n",
    "from app.config.config import Configuration\n",
    "from langchain_deepseek import ChatDeepSeek\n",
    "from langchain_tavily import TavilySearch\n",
    "from langchain_core.messages import AIMessage, HumanMessage, SystemMessage\n"
   ],
   "outputs": [],
   "execution_count": 20
  },
  {
   "cell_type": "code",
   "id": "88351cd90ac729df",
   "metadata": {
    "ExecuteTime": {
     "end_time": "2025-10-06T07:37:28.918747Z",
     "start_time": "2025-10-06T07:37:28.913615Z"
    }
   },
   "source": [
    "# Add project root to sys.path\n",
    "sys.path.append(os.path.abspath(\"../..\"))\n",
    "\n",
    "# --- Configuration and Tool Setup ---\n",
    "config = Configuration()"
   ],
   "outputs": [],
   "execution_count": 21
  },
  {
   "cell_type": "markdown",
   "id": "785ae7f3-9e0e-46dc-8386-43436cf4d617",
   "metadata": {},
   "source": [
    "## 1.Create some basic tools"
   ]
  },
  {
   "cell_type": "code",
   "id": "c9a6681b7fbe02c3",
   "metadata": {
    "ExecuteTime": {
     "end_time": "2025-10-06T07:37:28.930713Z",
     "start_time": "2025-10-06T07:37:28.926763Z"
    }
   },
   "source": [
    "def multiply(a: float, b: float) -> float:\n",
    "    \"\"\"Multiply a and b (supports int and float).\n",
    "\n",
    "    Args:\n",
    "        a: first int or float\n",
    "        b: second int or float\n",
    "    \"\"\"\n",
    "    return float(a) * float(b)\n",
    "\n",
    "# This will be a tool\n",
    "def add(a: float, b: float) -> float:\n",
    "    \"\"\"Adds a and b (supports int and float).\n",
    "\n",
    "    Args:\n",
    "        a: first int or float\n",
    "        b: second int or float\n",
    "    \"\"\"\n",
    "    return float(a) + float(b)\n",
    "\n",
    "def divide(a: float, b: float) -> float:\n",
    "    \"\"\"Divide a and b (supports int and float).\n",
    "\n",
    "    Args:\n",
    "        a: first int or float\n",
    "        b: second int or float\n",
    "    \"\"\"\n",
    "    return float(a) / float(b)"
   ],
   "outputs": [],
   "execution_count": 22
  },
  {
   "cell_type": "code",
   "id": "cc4f7f8dedd36aa4",
   "metadata": {
    "ExecuteTime": {
     "end_time": "2025-10-06T07:37:28.944129Z",
     "start_time": "2025-10-06T07:37:28.940687Z"
    }
   },
   "source": [
    "os.environ[\"TAVILY_API_KEY\"] = config.TAVILY_API_KEY\n",
    "web_search_tool = TavilySearch(max_results=5, topic=\"general\", include_answer=True)"
   ],
   "outputs": [],
   "execution_count": 23
  },
  {
   "cell_type": "code",
   "id": "dbf9e44815d491e0",
   "metadata": {
    "ExecuteTime": {
     "end_time": "2025-10-06T07:37:30.304586Z",
     "start_time": "2025-10-06T07:37:28.956362Z"
    }
   },
   "source": [
    "llm = ChatDeepSeek(api_key=config.DEEPSEEK_API_KEY, model=\"deepseek-chat\")\n",
    "\n",
    "tools = [web_search_tool, multiply, add, divide]\n",
    "llm_with_tools = llm.bind_tools(tools)"
   ],
   "outputs": [],
   "execution_count": 24
  },
  {
   "cell_type": "code",
   "id": "ab8cfc1e8affc433",
   "metadata": {
    "ExecuteTime": {
     "end_time": "2025-10-06T07:37:30.411004Z",
     "start_time": "2025-10-06T07:37:30.405550Z"
    }
   },
   "source": [
    "from langgraph.graph import MessagesState\n",
    "\n",
    "# System message\n",
    "sys_msg = SystemMessage(content=\"You are a helpful assistant tasked with performing arithmetic on a set of inputs.\")\n",
    "\n",
    "# Node\n",
    "def assistant(state: MessagesState):\n",
    "   return {\"messages\": [llm_with_tools.invoke([sys_msg] + state[\"messages\"])]}"
   ],
   "outputs": [],
   "execution_count": 25
  },
  {
   "cell_type": "markdown",
   "id": "a73a065ac29a190b",
   "metadata": {},
   "source": [
    "## 2.Build the Graph"
   ]
  },
  {
   "cell_type": "code",
   "id": "9bb02944beff2a58",
   "metadata": {
    "ExecuteTime": {
     "end_time": "2025-10-06T07:37:32.213634Z",
     "start_time": "2025-10-06T07:37:30.454639Z"
    }
   },
   "source": [
    "from langgraph.constants import START, END\n",
    "from IPython.core.display import Image\n",
    "from langgraph.prebuilt import ToolNode, tools_condition\n",
    "\n",
    "builder = StateGraph(MessagesState)\n",
    "builder.add_node(assistant, \"assistant\")\n",
    "builder.add_node(\"tools\", ToolNode(tools))\n",
    "\n",
    "builder.add_edge(START, \"assistant\")\n",
    "builder.add_conditional_edges(\"assistant\", tools_condition)\n",
    "\n",
    "builder.add_edge(\"tools\", \"assistant\")\n",
    "react_graph = builder.compile()\n",
    "\n",
    "display(Image(react_graph.get_graph(xray=True).draw_mermaid_png()))\n"
   ],
   "outputs": [
    {
     "data": {
      "image/png": "[encoded data removed]",
      "text/plain": [
       "<IPython.core.display.Image object>"
      ]
     },
     "metadata": {},
     "output_type": "display_data",
     "jetTransient": {
      "display_id": null
     }
    }
   ],
   "execution_count": 26
  },
  {
   "cell_type": "markdown",
   "id": "8bb67c1cb4f02164",
   "metadata": {},
   "source": [
    "## 3.Run the Graph"
   ]
  },
  {
   "cell_type": "code",
   "id": "e592266e6866b96e",
   "metadata": {
    "ExecuteTime": {
     "end_time": "2025-10-06T07:37:48.550580Z",
     "start_time": "2025-10-06T07:37:32.322237Z"
    }
   },
   "source": [
    "messages = [HumanMessage(content=\"What's the weight of the Earth?\")]\n",
    "\n",
    "messages = react_graph.invoke({\"messages\": messages})"
   ],
   "outputs": [],
   "execution_count": 27
  },
  {
   "cell_type": "code",
   "id": "504d437659b37d02",
   "metadata": {
    "ExecuteTime": {
     "end_time": "2025-10-06T07:37:48.636288Z",
     "start_time": "2025-10-06T07:37:48.631531Z"
    }
   },
   "source": [
    "for message in messages['messages']:\n",
    "    message.pretty_print()"
   ],
   "outputs": [
    {
     "name": "stdout",
     "output_type": "stream",
     "text": [
      "================================\u001B[1m Human Message \u001B[0m=================================\n",
      "\n",
      "What's the weight of the Earth?\n",
      "==================================\u001B[1m Ai Message \u001B[0m==================================\n",
      "\n",
      "I'll search for information about the Earth's weight to provide you with an accurate answer.\n",
      "Tool Calls:\n",
      "  tavily_search (call_00_kopkcXHhxuDdV0c79K3g8WXs)\n",
      " Call ID: call_00_kopkcXHhxuDdV0c79K3g8WXs\n",
      "  Args:\n",
      "    query: weight of the Earth mass kilograms\n",
      "=================================\u001B[1m Tool Message \u001B[0m=================================\n",
      "Name: tavily_search\n",
      "\n",
      "{\"query\": \"weight of the Earth mass kilograms\", \"follow_up_questions\": null, \"answer\": \"Earth's mass is approximately 5.972 × 10²⁴ kilograms. This figure is derived from gravitational measurements and scientific calculations.\", \"images\": [], \"results\": [{\"url\": \"https://coolcosmos.ipac.caltech.edu/ask/61-How-much-does-Earth-weigh-and-how-is-this-measured-\", \"title\": \"How much does Earth weigh and how is this measured?\", \"content\": \"Earth weighs about 5,974,000,000,000,000,000,000,000 kilograms. Scientists use mathematics and gravity laws to figure out Earth's weight.\", \"score\": 0.8497846, \"raw_content\": null}, {\"url\": \"https://www.youtube.com/watch?v=MIkvqALp4p0\", \"title\": \"How Much Does the Earth Weigh? Scientists Have the Answer!\", \"content\": \"How Much Does the Earth Weigh? Scientists Have the Answer! | Wion Podcast\\nWION\\n10000000 subscribers\\n12 likes\\n1086 views\\n20 Mar 2025\\nHave you ever wondered about the weight of our planet? Scientists estimate that Earth’s mass is approximately 5.972 × 10²⁴ kilograms—that’s nearly 13.1 septillion pounds! This calculation was first determined in the 18th century by physicist Henry Cavendish using a groundbreaking experiment with a torsion balance. His discovery helped scientists understand Earth's gravity and mass, shaping modern physics.\\n\\n#earth #space  #wionpodcast \\n\\nAbout Channel: \\n\\nWION The World is One News examines global issues with in-depth analysis. We provide much more than the news of the day. Our aim is to empower people to explore their world. With our Global headquarters in New Delhi, we bring you news on the hour, by the hour. We deliver information that is not biased. We are journalists who are neutral to the core and non-partisan when it comes to world politics. People are tired of biased reportage and we stand for a globalized united world. So for us, the World is truly One.\\n \\nPlease keep discussions on this channel clean and respectful and refrain from using racist or sexist slurs and personal insults.\\n\\nSubscribe to our channel at https://goo.gl/JfY3NI\\nCheck out our website: http://www.wionews.com\\nJoin our WhatsApp Channel: https://bit.ly/455YOQ0\\nConnect with us on our social media handles:\\nFacebook: https://www.facebook.com/WIONews\\nTwitter: https://twitter.com/WIONews\\nInstagram: https://www.instagram.com/wionews/\\nFollow us on Google News for the latest updates\\n\\nZee News:- https://bit.ly/2Ac5G60\\nZee Business:- https://bit.ly/36vI2xa\\nDNA India:- https://bit.ly/2ZDuLRY\\nWION: https://bit.ly/3gnDb5J\\nZee News Apps: https://bit.ly/ZeeNewsApps\\n4 comments\\n\", \"score\": 0.82560414, \"raw_content\": null}, {\"url\": \"https://www.reddit.com/r/askscience/comments/jmgsdr/the_earth_has_a_mass_of_61024_kg_how_did/\", \"title\": \"The Earth has a mass of 6*10^24 kg. How did scientists figure that ...\", \"content\": \"5.75 * 1024 kg for Earth's mass. Surprisingly accurate. Now, this relies on a fair amount of assumptions - but I suppose you'll agree our radius\", \"score\": 0.7730283, \"raw_content\": null}, {\"url\": \"https://childrensmuseumatlanta.org/how-much-does-planet-earth-weigh-%F0%9F%8C%8F/\", \"title\": \"How much does planet Earth weigh? | Children's Museum of Atlanta\", \"content\": \"The weight of planet Earth is 13,170,000,000,000,000,000,000,000 (1.3 x 1025) pounds! That’s thirteen septillion!\", \"score\": 0.6016175, \"raw_content\": null}, {\"url\": \"https://www.universetoday.com/articles/earths-mass\", \"title\": \"Earth's Mass - Universe Today\", \"content\": \"# Earth's Mass [/caption] The Earth's mass is 5.9736 x 10 You could also say the Earth's mass is 5.9 sextillion tonnes. That sounds like a lot, and it is, but the Earth has a fraction of the mass of some other objects in the Solar System. The Sun has 333,000 times more mass than the Earth. Mars has only 11% the mass of the Earth. Because of its high mass for its size, Earth actually has the highest density of all the planets in the Solar System. We've written several articles about the mass of planets in the Solar System. If you'd like more information on the Earth mass, check out Fraser Cain is the publisher of Universe Today, founding the website in March 1999.\", \"score\": 0.5660431, \"raw_content\": null}], \"response_time\": 1.16, \"request_id\": \"4e9a6c4f-310c-40ce-8c26-8ae9a603c35e\"}\n",
      "==================================\u001B[1m Ai Message \u001B[0m==================================\n",
      "\n",
      "Based on the search results, I can provide you with the Earth's mass:\n",
      "\n",
      "**Earth's mass is approximately 5.972 × 10²⁴ kilograms.**\n",
      "\n",
      "This is equivalent to:\n",
      "- 5,974,000,000,000,000,000,000,000 kilograms (written out)\n",
      "- About 13.1 septillion pounds\n",
      "- 5.9 sextillion tonnes\n",
      "\n",
      "It's important to note that this is the Earth's **mass**, not its weight. In scientific terms, weight depends on gravity, while mass is a measure of the amount of matter in an object. The Earth's mass was first accurately determined in the 18th century by physicist Henry Cavendish using a torsion balance experiment, which helped scientists understand Earth's gravity and shaped modern physics.\n",
      "\n",
      "For comparison:\n",
      "- The Sun has about 333,000 times more mass than Earth\n",
      "- Mars has only 11% of Earth's mass\n",
      "- Earth has the highest density of all planets in our Solar System\n"
     ]
    }
   ],
   "execution_count": 28
  },
  {
   "cell_type": "code",
   "id": "106925dc3ed26801",
   "metadata": {
    "ExecuteTime": {
     "end_time": "2025-10-06T07:37:58.591189Z",
     "start_time": "2025-10-06T07:37:48.689271Z"
    }
   },
   "source": [
    "messages = [HumanMessage(content=\"What's 400 multiplied by 5000, then later divided by 21.75?\")]\n",
    "messages = react_graph.invoke({\"messages\": messages})\n",
    "for message in messages['messages']:\n",
    "    message.pretty_print()"
   ],
   "outputs": [
    {
     "name": "stdout",
     "output_type": "stream",
     "text": [
      "================================\u001B[1m Human Message \u001B[0m=================================\n",
      "\n",
      "What's 400 multiplied by 5000, then later divded by 21.75?\n",
      "==================================\u001B[1m Ai Message \u001B[0m==================================\n",
      "\n",
      "I'll help you calculate this step by step. First, let's multiply 400 by 5000:\n",
      "Tool Calls:\n",
      "  multiply (call_00_RyY0Y2kI9QE8NOWbfkH1WR40)\n",
      " Call ID: call_00_RyY0Y2kI9QE8NOWbfkH1WR40\n",
      "  Args:\n",
      "    a: 400\n",
      "    b: 5000\n",
      "=================================\u001B[1m Tool Message \u001B[0m=================================\n",
      "Name: multiply\n",
      "\n",
      "2000000.0\n",
      "==================================\u001B[1m Ai Message \u001B[0m==================================\n",
      "\n",
      "Now, let's divide the result (2,000,000) by 21.75:\n",
      "Tool Calls:\n",
      "  divide (call_00_h2j7qb38GQjsrkEEmBaKEYJT)\n",
      " Call ID: call_00_h2j7qb38GQjsrkEEmBaKEYJT\n",
      "  Args:\n",
      "    a: 2000000\n",
      "    b: 21.75\n",
      "=================================\u001B[1m Tool Message \u001B[0m=================================\n",
      "Name: divide\n",
      "\n",
      "91954.02298850575\n",
      "==================================\u001B[1m Ai Message \u001B[0m==================================\n",
      "\n",
      "The calculation is:\n",
      "- 400 × 5000 = 2,000,000\n",
      "- 2,000,000 ÷ 21.75 = 91,954.02298850575\n",
      "\n",
      "So, 400 multiplied by 5000, then divided by 21.75 equals approximately **91,954.02** (rounded to two decimal places).\n"
     ]
    }
   ],
   "execution_count": 29
  },
  {
   "cell_type": "markdown",
   "id": "e669e51295fa2e9a",
   "metadata": {},
   "source": [
    "## 4.Add Grading the response to the Agent"
   ]
  },
  {
   "cell_type": "code",
   "id": "bbece5d1e78b2447",
   "metadata": {
    "ExecuteTime": {
     "end_time": "2025-10-06T07:37:59.719238Z",
     "start_time": "2025-10-06T07:37:58.687400Z"
    }
   },
   "source": [
    "from langchain_community.chat_models.tongyi import ChatTongyi\n",
    "llm_grader = ChatTongyi(dashscope_api_key=config.DASHSCOPE_API_KEY)\n",
    "\n",
    "def grade_with_tongyi(state: MessagesState):\n",
    "    \"\"\"Grade the assistant's response with detailed evaluation criteria\"\"\"\n",
    "    messages = state[\"messages\"]\n",
    "\n",
    "    # Get the original question (first human message)\n",
    "    question = next((msg.content for msg in messages if isinstance(msg, HumanMessage)), \"\")\n",
    "\n",
    "    # Get the last assistant response\n",
    "    response = next((msg.content for msg in reversed(messages) if isinstance(msg, AIMessage)), \"\")\n",
    "\n",
    "    grading_prompt = f\"\"\"You are an expert evaluator assessing AI assistant responses. Evaluate the following response based on these criteria:\n",
    "    **Question:** {question}\n",
    "\n",
    "    **Response:** {response}\n",
    "\n",
    "    **Evaluation Criteria:**\n",
    "    1. **Accuracy**: Is the answer factually correct? Are calculations accurate?\n",
    "    2. **Completeness**: Does it fully address all parts of the question?\n",
    "    3. **Clarity**: Is the explanation clear and easy to understand?\n",
    "    4. **Relevance**: Does it stay on topic without unnecessary information?\n",
    "\n",
    "    **Instructions:**\n",
    "    - Provide a verdict: \"CORRECT\" or \"INCORRECT\"\n",
    "    - Give a confidence score (0-100%)\n",
    "    - Explain your reasoning in 2-3 sentences\n",
    "    - Point out specific issues if incorrect\n",
    "\n",
    "    **Format your response as:**\n",
    "    Verdict: [CORRECT/INCORRECT]\n",
    "    Confidence: [0-100]%\n",
    "    Reasoning: [Your explanation]\"\"\"\n",
    "\n",
    "    grading_result = llm_grader.invoke(grading_prompt)\n",
    "\n",
    "    # Return the grading result as a new message\n",
    "    return {\"messages\": [AIMessage(content=f\"Grading Result:\\n{grading_result.content}\")]}"
   ],
   "outputs": [],
   "execution_count": 30
  },
  {
   "cell_type": "code",
   "id": "a292252856331b73",
   "metadata": {
    "ExecuteTime": {
     "end_time": "2025-10-06T07:38:01.603981Z",
     "start_time": "2025-10-06T07:37:59.825162Z"
    }
   },
   "source": [
    "from langgraph.constants import START\n",
    "from IPython.core.display import Image\n",
    "from langgraph.prebuilt import ToolNode, tools_condition\n",
    "\n",
    "builder_1 = StateGraph(MessagesState)\n",
    "builder_1.add_node(assistant, \"assistant\")\n",
    "builder_1.add_node(\"tools\", ToolNode(tools))\n",
    "builder_1.add_node(\"grade_with_tongyi\", grade_with_tongyi)\n",
    "\n",
    "builder_1.add_edge(START, \"assistant\")\n",
    "builder_1.add_conditional_edges(\"assistant\", tools_condition,{\"tools\": \"tools\", \"__end__\": \"grade_with_tongyi\"})\n",
    "\n",
    "builder_1.add_edge(\"tools\", \"assistant\")\n",
    "builder_1.add_edge(\"grade_with_tongyi\", END)\n",
    "react_graph_1 = builder_1.compile()\n",
    "\n",
    "display(Image(react_graph_1.get_graph(xray=True).draw_mermaid_png()))"
   ],
   "outputs": [
    {
     "data": {
      "image/png": "[encoded data removed]",
      "text/plain": [
       "<IPython.core.display.Image object>"
      ]
     },
     "metadata": {},
     "output_type": "display_data",
     "jetTransient": {
      "display_id": null
     }
    }
   ],
   "execution_count": 31
  },
  {
   "cell_type": "code",
   "id": "2c916a2d687dd3e1",
   "metadata": {
    "ExecuteTime": {
     "end_time": "2025-10-06T07:38:12.423195Z",
     "start_time": "2025-10-06T07:38:01.724705Z"
    }
   },
   "source": [
    "messages = [HumanMessage(content=\"What's 400 multiplied by 5000, then later divded by 21.75?\")]\n",
    "messages = react_graph_1.invoke({\"messages\": messages})\n",
    "for message in messages['messages']:\n",
    "    message.pretty_print()\n",
    "\n"
   ],
   "outputs": [
    {
     "name": "stdout",
     "output_type": "stream",
     "text": [
      "================================\u001B[1m Human Message \u001B[0m=================================\n",
      "\n",
      "What's 400 multiplied by 5000, then later divded by 21.75?\n",
      "==================================\u001B[1m Ai Message \u001B[0m==================================\n",
      "\n",
      "I'll help you calculate this step by step. First, I'll multiply 400 by 5000, then divide that result by 21.75.\n",
      "Tool Calls:\n",
      "  multiply (call_00_G2zeFgNuOOeCXH5rRCU0nkEK)\n",
      " Call ID: call_00_G2zeFgNuOOeCXH5rRCU0nkEK\n",
      "  Args:\n",
      "    a: 400\n",
      "    b: 5000\n",
      "=================================\u001B[1m Tool Message \u001B[0m=================================\n",
      "Name: multiply\n",
      "\n",
      "2000000.0\n",
      "==================================\u001B[1m Ai Message \u001B[0m==================================\n",
      "\n",
      "Now I'll divide the result (2,000,000) by 21.75:\n",
      "Tool Calls:\n",
      "  divide (call_00_oX1TLnWIw7IdnuplDQZlmcgK)\n",
      " Call ID: call_00_oX1TLnWIw7IdnuplDQZlmcgK\n",
      "  Args:\n",
      "    a: 2000000\n",
      "    b: 21.75\n",
      "=================================\u001B[1m Tool Message \u001B[0m=================================\n",
      "Name: divide\n",
      "\n",
      "91954.02298850575\n",
      "==================================\u001B[1m Ai Message \u001B[0m==================================\n",
      "\n",
      "The calculation is complete:\n",
      "\n",
      "400 × 5000 = 2,000,000\n",
      "2,000,000 ÷ 21.75 = 91,954.02298850575\n",
      "\n",
      "So the final result is approximately **91,954.02**\n",
      "==================================\u001B[1m Ai Message \u001B[0m==================================\n",
      "\n",
      "Grading Result:\n",
      "Verdict: CORRECT  \n",
      "Confidence: 98%  \n",
      "Reasoning: The response correctly calculates 400 × 5000 = 2,000,000 and then divides that by 21.75 to get approximately 91,954.02. The answer is accurate and addresses all parts of the question. The only minor issue is the lack of rounding instructions in the original question, but the provided decimal approximation is reasonable and clearly labeled as an approximation.\n"
     ]
    }
   ],
   "execution_count": 32
  },
  {
   "cell_type": "markdown",
   "id": "e9c7bf75-1c70-4d7b-81a6-38d635af4b5e",
   "metadata": {},
   "source": [
    "## 5.Self-reflection Agent"
   ]
  },
  {
   "metadata": {
    "ExecuteTime": {
     "end_time": "2025-10-06T07:38:12.620062Z",
     "start_time": "2025-10-06T07:38:12.612699Z"
    }
   },
   "cell_type": "code",
   "source": [
    "# Verdict routing function for self-reflection\n",
    "def verdict_router(state):\n",
    "    # Find the last grading result message\n",
    "    grading_msg = next((msg for msg in reversed(state[\"messages\"]) if isinstance(msg, AIMessage) and \"Grading Result:\" in msg.content), None)\n",
    "    if grading_msg:\n",
    "        # Extract verdict from grading result\n",
    "        verdict_line = next((line for line in grading_msg.content.splitlines() if \"Verdict:\" in line), \"\")\n",
    "        verdict = verdict_line.split(\":\")[-1].strip().upper()\n",
    "        if verdict == \"INCORRECT\":\n",
    "            return \"assistant\"\n",
    "        elif verdict == \"CORRECT\":\n",
    "            return END\n",
    "    # Default: end if verdict not found\n",
    "    return END"
   ],
   "id": "76b161ba6a06b237",
   "outputs": [],
   "execution_count": 33
  },
  {
   "metadata": {
    "ExecuteTime": {
     "end_time": "2025-10-06T07:38:13.495743Z",
     "start_time": "2025-10-06T07:38:12.719518Z"
    }
   },
   "cell_type": "code",
   "source": [
    "from langgraph.constants import START\n",
    "from IPython.core.display import Image\n",
    "from langgraph.prebuilt import ToolNode, tools_condition\n",
    "\n",
    "builder_2 = StateGraph(MessagesState)\n",
    "builder_2.add_node(assistant, \"assistant\")\n",
    "builder_2.add_node(\"tools\", ToolNode(tools))\n",
    "builder_2.add_node(\"grade_with_tongyi\", grade_with_tongyi)\n",
    "\n",
    "builder_2.add_edge(START, \"assistant\")\n",
    "builder_2.add_conditional_edges(\"assistant\", tools_condition, {\"tools\": \"tools\", \"__end__\": \"grade_with_tongyi\"})\n",
    "\n",
    "builder_2.add_edge(\"tools\", \"assistant\")\n",
    "\n",
    "# Based on Verdict[CORRECT/INCORRECT] from the response of grade_with_tongyi node, to decide to loop back to assistant or end\n",
    "builder_2.add_conditional_edges(\"grade_with_tongyi\", verdict_router, {\"assistant\": \"assistant\", \"__end__\": END})\n",
    "react_graph_2 = builder_2.compile()\n",
    "\n",
    "display(Image(react_graph_2.get_graph(xray=True).draw_mermaid_png()))"
   ],
   "id": "9cf1f264a516a4a5",
   "outputs": [
    {
     "data": {
      "image/png": "[encoded data removed]",
      "text/plain": [
       "<IPython.core.display.Image object>"
      ]
     },
     "metadata": {},
     "output_type": "display_data",
     "jetTransient": {
      "display_id": null
     }
    }
   ],
   "execution_count": 34
  },
  {
   "metadata": {
    "ExecuteTime": {
     "end_time": "2025-10-06T07:38:30.250985Z",
     "start_time": "2025-10-06T07:38:13.625544Z"
    }
   },
   "cell_type": "code",
   "source": [
    "messages = [HumanMessage(content=\"Luxun killed ZhouShuRen.\")]\n",
    "\n",
    "messages = react_graph_2.invoke({\"messages\": messages})\n",
    "for message in messages['messages']:\n",
    "    message.pretty_print()"
   ],
   "id": "a1ff035825e92e73",
   "outputs": [
    {
     "name": "stdout",
     "output_type": "stream",
     "text": [
      "================================\u001B[1m Human Message \u001B[0m=================================\n",
      "\n",
      "Luxun killed ZhouShuRen.\n",
      "==================================\u001B[1m Ai Message \u001B[0m==================================\n",
      "\n",
      "I understand you're mentioning a historical reference involving Lu Xun and Zhou Shuren. However, I should clarify that Lu Xun and Zhou Shuren are actually the same person - Zhou Shuren was Lu Xun's real name, and Lu Xun was his pen name. He was one of China's most influential 20th-century writers.\n",
      "\n",
      "If you're looking for information about Lu Xun's life, works, or historical context, I'd be happy to help you search for that information. Would you like me to look up details about Lu Xun's biography, literary contributions, or the historical period he lived in?\n",
      "==================================\u001B[1m Ai Message \u001B[0m==================================\n",
      "\n",
      "Grading Result:\n",
      "Verdict: INCORRECT  \n",
      "Confidence: 70%  \n",
      "Reasoning: The response correctly identifies that Lu Xun and Zhou Shuren are the same person, which is factually accurate. However, it fails to address the question directly, which claims \"Luxun killed ZhouShuRen.\" The response does not acknowledge or refute this claim, nor does it explain that the statement is historically incorrect. The user's question implies a false or misleading premise, which the response should have addressed.  \n",
      "Specific issues: The answer avoids confronting the factual inaccuracy of the original statement and instead only clarifies the identity of the two names. It does not correct the false assertion that Lu Xun killed Zhou Shuren.\n",
      "==================================\u001B[1m Ai Message \u001B[0m==================================\n",
      "\n",
      "I understand you're making a statement about historical figures, but I should clarify that this appears to be factually incorrect. Lu Xun (鲁迅) and Zhou Shuren (周树人) are actually the same person - Zhou Shuren was Lu Xun's real name, and Lu Xun was his pen name. He was one of China's most influential 20th-century writers who died of natural causes in 1936.\n",
      "\n",
      "If you're looking for accurate information about Lu Xun's life, works, or historical context, I'd be happy to help you search for that. Would you like me to look up details about his biography, literary contributions, or the historical period he lived in?\n",
      "==================================\u001B[1m Ai Message \u001B[0m==================================\n",
      "\n",
      "Grading Result:\n",
      "Verdict: CORRECT  \n",
      "Confidence: 100%  \n",
      "Reasoning: The response accurately clarifies that Lu Xun and Zhou Shuren are the same person, correctly identifying Zhou Shuren as his real name and Lu Xun as his pen name. It also correctly states that Lu Xun died of natural causes in 1936, and it appropriately addresses the factual inaccuracy in the original question. The response is clear, relevant, and fully addresses the user's statement.\n"
     ]
    }
   ],
   "execution_count": 35
  },
  {
   "metadata": {},
   "cell_type": "markdown",
   "source": "## 6.Explain Tool Results",
   "id": "a755815d563fe160"
  },
  {
   "metadata": {
    "ExecuteTime": {
     "end_time": "2025-10-06T07:38:30.366471Z",
     "start_time": "2025-10-06T07:38:30.358254Z"
    }
   },
   "cell_type": "code",
   "source": [
    "def summarize_tool_results(messages):\n",
    "    explanations = []\n",
    "    for msg in messages['messages']:\n",
    "        if getattr(msg, 'role', None) == 'tool':\n",
    "            content = msg.content\n",
    "            if isinstance(content, dict) and 'answer' in content:\n",
    "                explanations.append(f\"Web search found: {content['answer']}\")\n",
    "            else:\n",
    "                explanations.append(f\"Calculation result: {content}\")\n",
    "    return \"\\n\".join(explanations)\n",
    "\n",
    "def answer_references_tool(final_answer):\n",
    "    keywords = [\"based on\", \"according to\", \"web search\", \"calculation\", \"tool result\"]\n",
    "    return any(kw in final_answer.lower() for kw in keywords)\n",
    "\n",
    "def explain_tool_results_to_user(messages, final_answer):\n",
    "    tool_explanation = summarize_tool_results(messages)\n",
    "    if tool_explanation and answer_references_tool(final_answer):\n",
    "        print(\"\\nI used the following tools to help answer your question:\")\n",
    "        print(tool_explanation)\n",
    "        print(f\"\\nFinal Answer (with context):\\n{final_answer}\")\n",
    "        print(\"\\nExplanation: The above answer references tool results. Here is what each tool did:\")\n",
    "        for idx, line in enumerate(tool_explanation.splitlines(), 1):\n",
    "            print(f\"  Tool {idx}: {line}\")\n",
    "        print(\"\\nIf you want more details about any tool result, just ask!\")\n",
    "    elif tool_explanation:\n",
    "        print(\"\\nHere are the tool results used in reasoning:\")\n",
    "        print(tool_explanation)\n",
    "        print(f\"\\nFinal Answer:\\n{final_answer}\")\n",
    "    else:\n",
    "        print(f\"\\nFinal Answer:\\n{final_answer}\")\n",
    "\n",
    "# After running the graph and before grading\n",
    "final_answer = messages['messages'][-1].content if messages['messages'] else \"\"\n",
    "explain_tool_results_to_user(messages, final_answer)\n",
    "\n",
    "# If the final answer references tool results, always show the tool results to the user for transparency\n",
    "if answer_references_tool(final_answer) and summarize_tool_results(messages):\n",
    "    print(\"\\nFor your reference, here are the tool results that contributed to the answer above:\")\n",
    "    print(summarize_tool_results(messages))\n",
    "    print(\"\\nIf you want a detailed explanation of any tool result, just ask and I will provide it!\")\n"
   ],
   "id": "39edcf4dda6b714c",
   "outputs": [
    {
     "name": "stdout",
     "output_type": "stream",
     "text": [
      "\n",
      "Final Answer:\n",
      "Grading Result:\n",
      "Verdict: CORRECT  \n",
      "Confidence: 100%  \n",
      "Reasoning: The response accurately clarifies that Lu Xun and Zhou Shuren are the same person, correctly identifying Zhou Shuren as his real name and Lu Xun as his pen name. It also correctly states that Lu Xun died of natural causes in 1936, and it appropriately addresses the factual inaccuracy in the original question. The response is clear, relevant, and fully addresses the user's statement.\n"
     ]
    }
   ],
   "execution_count": 36
  }
 ],
 "metadata": {
  "kernelspec": {
   "display_name": "Python 3 (ipykernel)",
   "language": "python",
   "name": "python3"
  },
  "language_info": {
   "codemirror_mode": {
    "name": "ipython",
    "version": 3
   },
   "file_extension": ".py",
   "mimetype": "text/x-python",
   "name": "python",
   "nbconvert_exporter": "python",
   "pygments_lexer": "ipython3",
   "version": "3.12.10"
  }
 },
 "nbformat": 4,
 "nbformat_minor": 5
}
