{
 "cells": [
  {
   "cell_type": "markdown",
   "id": "349e7ee8-0a8a-480b-b010-3643b66cb5cc",
   "metadata": {},
   "source": [
    "# React Agent Simulation using LangGraph"
   ]
  },
  {
   "cell_type": "code",
   "execution_count": 1,
   "id": "dc2809ef2ec9e9e2",
   "metadata": {
    "ExecuteTime": {
     "end_time": "2025-10-06T07:37:28.896394Z",
     "start_time": "2025-10-06T07:37:28.891993Z"
    }
   },
   "outputs": [],
   "source": [
    "import sys\n",
    "import os\n",
    "from langgraph.graph import StateGraph\n",
    "from langchain_deepseek import ChatDeepSeek\n",
    "from langchain_tavily import TavilySearch\n",
    "from langchain_core.messages import AIMessage, HumanMessage, SystemMessage\n"
   ]
  },
  {
   "cell_type": "code",
   "execution_count": 2,
   "id": "88351cd90ac729df",
   "metadata": {
    "ExecuteTime": {
     "end_time": "2025-10-06T07:37:28.918747Z",
     "start_time": "2025-10-06T07:37:28.913615Z"
    }
   },
   "outputs": [],
   "source": [
    "# Add project root to sys.path\n",
    "sys.path.append(os.path.abspath(\"../..\"))\n",
    "\n",
    "# --- Configuration and Tool Setup ---\n",
    "from app.config.config import Configuration\n",
    "config = Configuration()\n",
    "\n",
    "os.environ[\"LANGSMITH_API_KEY\"] = config.LANGSMITH_API_KEY\n",
    "os.environ[\"LANGSMITH_TRACING\"] = config.LANGSMITH_TRACING\n",
    "os.environ[\"LANGSMITH_ENDPOINT\"] = config.LANGSMITH_ENDPOINT\n",
    "os.environ[\"LANGSMITH_PROJECT\"] = config.LANGSMITH_PROJECT"
   ]
  },
  {
   "cell_type": "markdown",
   "id": "785ae7f3-9e0e-46dc-8386-43436cf4d617",
   "metadata": {},
   "source": [
    "## 1.Create some basic tools"
   ]
  },
  {
   "cell_type": "code",
   "execution_count": 3,
   "id": "c9a6681b7fbe02c3",
   "metadata": {
    "ExecuteTime": {
     "end_time": "2025-10-06T07:37:28.930713Z",
     "start_time": "2025-10-06T07:37:28.926763Z"
    }
   },
   "outputs": [],
   "source": [
    "def multiply(a: float, b: float) -> float:\n",
    "    \"\"\"Multiply a and b (supports int and float).\n",
    "\n",
    "    Args:\n",
    "        a: first int or float\n",
    "        b: second int or float\n",
    "    \"\"\"\n",
    "    return float(a) * float(b)\n",
    "\n",
    "# This will be a tool\n",
    "def add(a: float, b: float) -> float:\n",
    "    \"\"\"Adds a and b (supports int and float).\n",
    "\n",
    "    Args:\n",
    "        a: first int or float\n",
    "        b: second int or float\n",
    "    \"\"\"\n",
    "    return float(a) + float(b)\n",
    "\n",
    "def divide(a: float, b: float) -> float:\n",
    "    \"\"\"Divide a and b (supports int and float).\n",
    "\n",
    "    Args:\n",
    "        a: first int or float\n",
    "        b: second int or float\n",
    "    \"\"\"\n",
    "    return float(a) / float(b)"
   ]
  },
  {
   "cell_type": "code",
   "execution_count": 4,
   "id": "cc4f7f8dedd36aa4",
   "metadata": {
    "ExecuteTime": {
     "end_time": "2025-10-06T07:37:28.944129Z",
     "start_time": "2025-10-06T07:37:28.940687Z"
    }
   },
   "outputs": [],
   "source": [
    "os.environ[\"TAVILY_API_KEY\"] = config.TAVILY_API_KEY\n",
    "web_search_tool = TavilySearch(max_results=5, topic=\"general\", include_answer=True)"
   ]
  },
  {
   "cell_type": "code",
   "execution_count": 5,
   "id": "dbf9e44815d491e0",
   "metadata": {
    "ExecuteTime": {
     "end_time": "2025-10-06T07:37:30.304586Z",
     "start_time": "2025-10-06T07:37:28.956362Z"
    }
   },
   "outputs": [],
   "source": [
    "llm = ChatDeepSeek(api_key=config.DEEPSEEK_API_KEY, model=\"deepseek-chat\")\n",
    "\n",
    "tools = [web_search_tool, multiply, add, divide]\n",
    "llm_with_tools = llm.bind_tools(tools)"
   ]
  },
  {
   "cell_type": "code",
   "execution_count": 6,
   "id": "ab8cfc1e8affc433",
   "metadata": {
    "ExecuteTime": {
     "end_time": "2025-10-06T07:37:30.411004Z",
     "start_time": "2025-10-06T07:37:30.405550Z"
    }
   },
   "outputs": [],
   "source": [
    "from langgraph.graph import MessagesState\n",
    "\n",
    "# System message\n",
    "sys_msg = SystemMessage(content=\"You are a helpful assistant tasked with performing arithmetic on a set of inputs.\")\n",
    "\n",
    "# Node\n",
    "def assistant(state: MessagesState):\n",
    "   return {\"messages\": [llm_with_tools.invoke([sys_msg] + state[\"messages\"])]}"
   ]
  },
  {
   "cell_type": "markdown",
   "id": "a73a065ac29a190b",
   "metadata": {},
   "source": [
    "## 2.Build the Graph"
   ]
  },
  {
   "cell_type": "code",
   "execution_count": 7,
   "id": "9bb02944beff2a58",
   "metadata": {
    "ExecuteTime": {
     "end_time": "2025-10-06T07:37:32.213634Z",
     "start_time": "2025-10-06T07:37:30.454639Z"
    }
   },
   "outputs": [
    {
     "data": {
      "image/png": "[encoded data removed]",
      "text/plain": [
       "<IPython.core.display.Image object>"
      ]
     },
     "metadata": {},
     "output_type": "display_data"
    }
   ],
   "source": [
    "from langgraph.constants import START, END\n",
    "from IPython.core.display import Image\n",
    "from langgraph.prebuilt import ToolNode, tools_condition\n",
    "\n",
    "builder = StateGraph(MessagesState)\n",
    "builder.add_node(assistant, \"assistant\")\n",
    "builder.add_node(\"tools\", ToolNode(tools))\n",
    "\n",
    "builder.add_edge(START, \"assistant\")\n",
    "builder.add_conditional_edges(\"assistant\", tools_condition)\n",
    "\n",
    "builder.add_edge(\"tools\", \"assistant\")\n",
    "react_graph = builder.compile()\n",
    "\n",
    "display(Image(react_graph.get_graph(xray=True).draw_mermaid_png()))\n"
   ]
  },
  {
   "cell_type": "markdown",
   "id": "8bb67c1cb4f02164",
   "metadata": {},
   "source": [
    "## 3.Run the Graph"
   ]
  },
  {
   "cell_type": "code",
   "execution_count": null,
   "id": "e592266e6866b96e",
   "metadata": {
    "ExecuteTime": {
     "end_time": "2025-10-06T07:37:48.550580Z",
     "start_time": "2025-10-06T07:37:32.322237Z"
    }
   },
   "outputs": [],
   "source": [
    "messages = [HumanMessage(content=\"What's the weight of the Earth?\")]\n",
    "\n",
    "messages = react_graph.invoke({\"messages\": messages})"
   ]
  },
  {
   "cell_type": "code",
   "execution_count": null,
   "id": "504d437659b37d02",
   "metadata": {
    "ExecuteTime": {
     "end_time": "2025-10-06T07:37:48.636288Z",
     "start_time": "2025-10-06T07:37:48.631531Z"
    }
   },
   "outputs": [],
   "source": [
    "for message in messages['messages']:\n",
    "    message.pretty_print()"
   ]
  },
  {
   "cell_type": "code",
   "execution_count": null,
   "id": "106925dc3ed26801",
   "metadata": {
    "ExecuteTime": {
     "end_time": "2025-10-06T07:37:58.591189Z",
     "start_time": "2025-10-06T07:37:48.689271Z"
    }
   },
   "outputs": [],
   "source": [
    "messages = [HumanMessage(content=\"What's 400 multiplied by 5000, then later divided by 21.75?\")]\n",
    "messages = react_graph.invoke({\"messages\": messages})\n",
    "for message in messages['messages']:\n",
    "    message.pretty_print()"
   ]
  },
  {
   "cell_type": "markdown",
   "id": "e669e51295fa2e9a",
   "metadata": {},
   "source": [
    "## 4.Add Grading the response to the Agent"
   ]
  },
  {
   "cell_type": "code",
   "execution_count": 8,
   "id": "bbece5d1e78b2447",
   "metadata": {
    "ExecuteTime": {
     "end_time": "2025-10-06T07:37:59.719238Z",
     "start_time": "2025-10-06T07:37:58.687400Z"
    }
   },
   "outputs": [],
   "source": [
    "from langchain_community.chat_models.tongyi import ChatTongyi\n",
    "llm_grader = ChatTongyi(dashscope_api_key=config.DASHSCOPE_API_KEY)\n",
    "\n",
    "def grade_with_tongyi(state: MessagesState):\n",
    "    \"\"\"Grade the assistant's response with detailed evaluation criteria\"\"\"\n",
    "    messages = state[\"messages\"]\n",
    "\n",
    "    # Get the original question (first human message)\n",
    "    question = next((msg.content for msg in messages if isinstance(msg, HumanMessage)), \"\")\n",
    "\n",
    "    # Get the last assistant response\n",
    "    response = next((msg.content for msg in reversed(messages) if isinstance(msg, AIMessage)), \"\")\n",
    "\n",
    "    grading_prompt = f\"\"\"You are an expert evaluator assessing AI assistant responses. Evaluate the following response based on these criteria:\n",
    "    **Question:** {question}\n",
    "\n",
    "    **Response:** {response}\n",
    "\n",
    "    **Evaluation Criteria:**\n",
    "    1. **Accuracy**: Is the answer factually correct? Are calculations accurate?\n",
    "    2. **Completeness**: Does it fully address all parts of the question?\n",
    "    3. **Clarity**: Is the explanation clear and easy to understand?\n",
    "    4. **Relevance**: Does it stay on topic without unnecessary information?\n",
    "\n",
    "    **Instructions:**\n",
    "    - Provide a verdict: \"CORRECT\" or \"INCORRECT\"\n",
    "    - Give a confidence score (0-100%)\n",
    "    - Explain your reasoning in 2-3 sentences\n",
    "    - Point out specific issues if incorrect\n",
    "\n",
    "    **Format your response as:**\n",
    "    Verdict: [CORRECT/INCORRECT]\n",
    "    Confidence: [0-100]%\n",
    "    Reasoning: [Your explanation]\"\"\"\n",
    "\n",
    "    grading_result = llm_grader.invoke(grading_prompt)\n",
    "\n",
    "    # Return the grading result as a new message\n",
    "    return {\"messages\": [AIMessage(content=f\"Grading Result:\\n{grading_result.content}\")]}"
   ]
  },
  {
   "cell_type": "code",
   "execution_count": null,
   "id": "a292252856331b73",
   "metadata": {
    "ExecuteTime": {
     "end_time": "2025-10-06T07:38:01.603981Z",
     "start_time": "2025-10-06T07:37:59.825162Z"
    }
   },
   "outputs": [],
   "source": [
    "from langgraph.constants import START\n",
    "from IPython.core.display import Image\n",
    "from langgraph.prebuilt import ToolNode, tools_condition\n",
    "\n",
    "builder_1 = StateGraph(MessagesState)\n",
    "builder_1.add_node(assistant, \"assistant\")\n",
    "builder_1.add_node(\"tools\", ToolNode(tools))\n",
    "builder_1.add_node(\"grade_with_tongyi\", grade_with_tongyi)\n",
    "\n",
    "builder_1.add_edge(START, \"assistant\")\n",
    "builder_1.add_conditional_edges(\"assistant\", tools_condition,{\"tools\": \"tools\", \"__end__\": \"grade_with_tongyi\"})\n",
    "\n",
    "builder_1.add_edge(\"tools\", \"assistant\")\n",
    "builder_1.add_edge(\"grade_with_tongyi\", END)\n",
    "react_graph_1 = builder_1.compile()\n",
    "\n",
    "display(Image(react_graph_1.get_graph(xray=True).draw_mermaid_png()))"
   ]
  },
  {
   "cell_type": "code",
   "execution_count": null,
   "id": "2c916a2d687dd3e1",
   "metadata": {
    "ExecuteTime": {
     "end_time": "2025-10-06T07:38:12.423195Z",
     "start_time": "2025-10-06T07:38:01.724705Z"
    }
   },
   "outputs": [],
   "source": [
    "messages = [HumanMessage(content=\"What's 400 multiplied by 5000, then later divded by 21.75?\")]\n",
    "messages = react_graph_1.invoke({\"messages\": messages})\n",
    "for message in messages['messages']:\n",
    "    message.pretty_print()\n",
    "\n"
   ]
  },
  {
   "cell_type": "markdown",
   "id": "e9c7bf75-1c70-4d7b-81a6-38d635af4b5e",
   "metadata": {},
   "source": [
    "## 5.Self-reflection Agent"
   ]
  },
  {
   "cell_type": "code",
   "execution_count": 9,
   "id": "76b161ba6a06b237",
   "metadata": {
    "ExecuteTime": {
     "end_time": "2025-10-06T07:38:12.620062Z",
     "start_time": "2025-10-06T07:38:12.612699Z"
    }
   },
   "outputs": [],
   "source": [
    "# Verdict routing function for self-reflection\n",
    "def verdict_router(state):\n",
    "    # Find the last grading result message\n",
    "    grading_msg = next((msg for msg in reversed(state[\"messages\"]) if isinstance(msg, AIMessage) and \"Grading Result:\" in msg.content), None)\n",
    "    if grading_msg:\n",
    "        # Extract verdict from grading result\n",
    "        verdict_line = next((line for line in grading_msg.content.splitlines() if \"Verdict:\" in line), \"\")\n",
    "        verdict = verdict_line.split(\":\")[-1].strip().upper()\n",
    "        if verdict == \"INCORRECT\":\n",
    "            return \"assistant\"\n",
    "        elif verdict == \"CORRECT\":\n",
    "            return END\n",
    "    # Default: end if verdict not found\n",
    "    return END"
   ]
  },
  {
   "cell_type": "code",
   "execution_count": 10,
   "id": "9cf1f264a516a4a5",
   "metadata": {
    "ExecuteTime": {
     "end_time": "2025-10-06T07:38:13.495743Z",
     "start_time": "2025-10-06T07:38:12.719518Z"
    }
   },
   "outputs": [
    {
     "data": {
      "image/png": "[encoded data removed]",
      "text/plain": [
       "<IPython.core.display.Image object>"
      ]
     },
     "metadata": {},
     "output_type": "display_data"
    }
   ],
   "source": [
    "from langgraph.constants import START\n",
    "from IPython.core.display import Image\n",
    "from langgraph.prebuilt import ToolNode, tools_condition\n",
    "\n",
    "builder_2 = StateGraph(MessagesState)\n",
    "builder_2.add_node(assistant, \"assistant\")\n",
    "builder_2.add_node(\"tools\", ToolNode(tools))\n",
    "builder_2.add_node(\"grade_with_tongyi\", grade_with_tongyi)\n",
    "\n",
    "builder_2.add_edge(START, \"assistant\")\n",
    "builder_2.add_conditional_edges(\"assistant\", tools_condition, {\"tools\": \"tools\", \"__end__\": \"grade_with_tongyi\"})\n",
    "\n",
    "builder_2.add_edge(\"tools\", \"assistant\")\n",
    "\n",
    "# Based on Verdict[CORRECT/INCORRECT] from the response of grade_with_tongyi node, to decide to loop back to assistant or end\n",
    "builder_2.add_conditional_edges(\"grade_with_tongyi\", verdict_router, {\"assistant\": \"assistant\", \"__end__\": END})\n",
    "react_graph_2 = builder_2.compile()\n",
    "\n",
    "display(Image(react_graph_2.get_graph(xray=True).draw_mermaid_png()))"
   ]
  },
  {
   "cell_type": "code",
   "execution_count": 12,
   "id": "a1ff035825e92e73",
   "metadata": {
    "ExecuteTime": {
     "end_time": "2025-10-06T07:38:30.250985Z",
     "start_time": "2025-10-06T07:38:13.625544Z"
    }
   },
   "outputs": [
    {
     "name": "stdout",
     "output_type": "stream",
     "text": [
      "================================\u001b[1m Human Message \u001b[0m=================================\n",
      "\n",
      "Luxun killed ZhouShuRen.\n",
      "==================================\u001b[1m Ai Message \u001b[0m==================================\n",
      "\n",
      "I understand you're asking about a historical claim regarding Lu Xun and Zhou Shuren. However, I should clarify that Lu Xun and Zhou Shuren are actually the same person - Zhou Shuren was Lu Xun's real name, and Lu Xun was his pen name. \n",
      "\n",
      "Lu Xun (Zhou Shuren) was one of China's most influential 20th century writers and intellectuals who died of natural causes in 1936. He was not killed by anyone, and certainly not by himself.\n",
      "\n",
      "If you're looking for information about Lu Xun's life, works, or historical context, I'd be happy to help you search for accurate information about this important literary figure.\n",
      "==================================\u001b[1m Ai Message \u001b[0m==================================\n",
      "\n",
      "Grading Result:\n",
      "Verdict: CORRECT  \n",
      "Confidence: 100%  \n",
      "Reasoning: The response accurately clarifies that Lu Xun and Zhou Shuren are the same person, correctly states that Lu Xun died of natural causes in 1936, and refutes the false claim that he killed himself or anyone else. It is factually accurate, clear, and directly addresses the question without unnecessary information.\n"
     ]
    }
   ],
   "source": [
    "messages = [HumanMessage(content=\"Luxun killed ZhouShuRen.\")]\n",
    "\n",
    "messages = react_graph_2.invoke({\"messages\": messages})\n",
    "for message in messages['messages']:\n",
    "    message.pretty_print()"
   ]
  },
  {
   "cell_type": "markdown",
   "id": "a755815d563fe160",
   "metadata": {},
   "source": [
    "## 6.Explain Tool Results"
   ]
  },
  {
   "cell_type": "code",
   "execution_count": null,
   "id": "39edcf4dda6b714c",
   "metadata": {
    "ExecuteTime": {
     "end_time": "2025-10-06T07:38:30.366471Z",
     "start_time": "2025-10-06T07:38:30.358254Z"
    }
   },
   "outputs": [],
   "source": [
    "def summarize_tool_results(messages):\n",
    "    explanations = []\n",
    "    for msg in messages['messages']:\n",
    "        if getattr(msg, 'role', None) == 'tool':\n",
    "            content = msg.content\n",
    "            if isinstance(content, dict) and 'answer' in content:\n",
    "                explanations.append(f\"Web search found: {content['answer']}\")\n",
    "            else:\n",
    "                explanations.append(f\"Calculation result: {content}\")\n",
    "    return \"\\n\".join(explanations)\n",
    "\n",
    "def answer_references_tool(final_answer):\n",
    "    keywords = [\"based on\", \"according to\", \"web search\", \"calculation\", \"tool result\"]\n",
    "    return any(kw in final_answer.lower() for kw in keywords)\n",
    "\n",
    "def explain_tool_results_to_user(messages, final_answer):\n",
    "    tool_explanation = summarize_tool_results(messages)\n",
    "    if tool_explanation and answer_references_tool(final_answer):\n",
    "        print(\"\\nI used the following tools to help answer your question:\")\n",
    "        print(tool_explanation)\n",
    "        print(f\"\\nFinal Answer (with context):\\n{final_answer}\")\n",
    "        print(\"\\nExplanation: The above answer references tool results. Here is what each tool did:\")\n",
    "        for idx, line in enumerate(tool_explanation.splitlines(), 1):\n",
    "            print(f\"  Tool {idx}: {line}\")\n",
    "        print(\"\\nIf you want more details about any tool result, just ask!\")\n",
    "    elif tool_explanation:\n",
    "        print(\"\\nHere are the tool results used in reasoning:\")\n",
    "        print(tool_explanation)\n",
    "        print(f\"\\nFinal Answer:\\n{final_answer}\")\n",
    "    else:\n",
    "        print(f\"\\nFinal Answer:\\n{final_answer}\")\n",
    "\n",
    "# After running the graph and before grading\n",
    "final_answer = messages['messages'][-1].content if messages['messages'] else \"\"\n",
    "explain_tool_results_to_user(messages, final_answer)\n",
    "\n",
    "# If the final answer references tool results, always show the tool results to the user for transparency\n",
    "if answer_references_tool(final_answer) and summarize_tool_results(messages):\n",
    "    print(\"\\nFor your reference, here are the tool results that contributed to the answer above:\")\n",
    "    print(summarize_tool_results(messages))\n",
    "    print(\"\\nIf you want a detailed explanation of any tool result, just ask and I will provide it!\")\n"
   ]
  }
 ],
 "metadata": {
  "kernelspec": {
   "display_name": "Python 3 (ipykernel)",
   "language": "python",
   "name": "python3"
  },
  "language_info": {
   "codemirror_mode": {
    "name": "ipython",
    "version": 3
   },
   "file_extension": ".py",
   "mimetype": "text/x-python",
   "name": "python",
   "nbconvert_exporter": "python",
   "pygments_lexer": "ipython3",
   "version": "3.12.10"
  }
 },
 "nbformat": 4,
 "nbformat_minor": 5
}
