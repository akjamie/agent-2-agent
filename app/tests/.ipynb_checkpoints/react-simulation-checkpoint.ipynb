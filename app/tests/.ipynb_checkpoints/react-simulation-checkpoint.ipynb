{
 "cells": [
  {
   "cell_type": "markdown",
   "id": "349e7ee8-0a8a-480b-b010-3643b66cb5cc",
   "metadata": {},
   "source": [
    "# React Agent Simulation using LangGraph"
   ]
  },
  {
   "cell_type": "code",
   "execution_count": 66,
   "id": "dc2809ef2ec9e9e2",
   "metadata": {
    "ExecuteTime": {
     "end_time": "2025-10-05T14:25:31.401700Z",
     "start_time": "2025-10-05T14:25:31.398746Z"
    }
   },
   "outputs": [],
   "source": [
    "import sys\n",
    "import os\n",
    "from langgraph.graph import StateGraph\n",
    "from app.config.config import Configuration\n",
    "from langchain_deepseek import ChatDeepSeek\n",
    "from langchain_tavily import TavilySearch\n",
    "from langchain_core.messages import AIMessage, HumanMessage\n"
   ]
  },
  {
   "cell_type": "code",
   "execution_count": 29,
   "id": "88351cd90ac729df",
   "metadata": {
    "ExecuteTime": {
     "end_time": "2025-10-05T13:30:46.892530Z",
     "start_time": "2025-10-05T13:30:46.886798Z"
    }
   },
   "outputs": [],
   "source": [
    "# Add project root to sys.path\n",
    "sys.path.append(os.path.abspath(\"../..\"))\n",
    "\n",
    "# --- Configuration and Tool Setup ---\n",
    "config = Configuration()"
   ]
  },
  {
   "cell_type": "markdown",
   "id": "785ae7f3-9e0e-46dc-8386-43436cf4d617",
   "metadata": {},
   "source": [
    "## 1.Create some basic tools"
   ]
  },
  {
   "cell_type": "code",
   "execution_count": 46,
   "id": "c9a6681b7fbe02c3",
   "metadata": {
    "ExecuteTime": {
     "end_time": "2025-10-05T13:45:00.698835Z",
     "start_time": "2025-10-05T13:45:00.695269Z"
    }
   },
   "outputs": [],
   "source": [
    "def multiply(a: float, b: float) -> float:\n",
    "    \"\"\"Multiply a and b (supports int and float).\n",
    "\n",
    "    Args:\n",
    "        a: first int or float\n",
    "        b: second int or float\n",
    "    \"\"\"\n",
    "    return float(a) * float(b)\n",
    "\n",
    "# This will be a tool\n",
    "def add(a: float, b: float) -> float:\n",
    "    \"\"\"Adds a and b (supports int and float).\n",
    "\n",
    "    Args:\n",
    "        a: first int or float\n",
    "        b: second int or float\n",
    "    \"\"\"\n",
    "    return float(a) + float(b)\n",
    "\n",
    "def divide(a: float, b: float) -> float:\n",
    "    \"\"\"Divide a and b (supports int and float).\n",
    "\n",
    "    Args:\n",
    "        a: first int or float\n",
    "        b: second int or float\n",
    "    \"\"\"\n",
    "    return float(a) / float(b)"
   ]
  },
  {
   "cell_type": "code",
   "execution_count": 31,
   "id": "cc4f7f8dedd36aa4",
   "metadata": {
    "ExecuteTime": {
     "end_time": "2025-10-05T13:30:46.920903Z",
     "start_time": "2025-10-05T13:30:46.917044Z"
    }
   },
   "outputs": [],
   "source": [
    "os.environ[\"TAVILY_API_KEY\"] = config.TAVILY_API_KEY\n",
    "web_search_tool = TavilySearch(max_results=5, topic=\"general\", include_answer=True)"
   ]
  },
  {
   "cell_type": "code",
   "execution_count": 47,
   "id": "dbf9e44815d491e0",
   "metadata": {
    "ExecuteTime": {
     "end_time": "2025-10-05T13:45:25.395326Z",
     "start_time": "2025-10-05T13:45:23.834954Z"
    }
   },
   "outputs": [],
   "source": [
    "llm = ChatDeepSeek(api_key=config.DEEPSEEK_API_KEY, model=\"deepseek-chat\")\n",
    "\n",
    "tools = [web_search_tool, multiply, add, divide]\n",
    "llm_with_tools = llm.bind_tools(tools)"
   ]
  },
  {
   "cell_type": "code",
   "execution_count": 36,
   "id": "ab8cfc1e8affc433",
   "metadata": {
    "ExecuteTime": {
     "end_time": "2025-10-05T13:35:01.874693Z",
     "start_time": "2025-10-05T13:35:01.870383Z"
    }
   },
   "outputs": [],
   "source": [
    "# System message\n",
    "sys_msg = SystemMessage(content=\"You are a helpful assistant tasked with performing arithmetic on a set of inputs.\")\n",
    "\n",
    "# Node\n",
    "def assistant(state: MessagesState):\n",
    "   return {\"messages\": [llm_with_tools.invoke([sys_msg] + state[\"messages\"])]}"
   ]
  },
  {
   "cell_type": "markdown",
   "id": "a73a065ac29a190b",
   "metadata": {},
   "source": [
    "## 2.Build the Graph"
   ]
  },
  {
   "cell_type": "code",
   "execution_count": 58,
   "id": "9bb02944beff2a58",
   "metadata": {
    "ExecuteTime": {
     "end_time": "2025-10-05T14:15:21.534774Z",
     "start_time": "2025-10-05T14:15:20.195195Z"
    }
   },
   "outputs": [
    {
     "data": {
      "image/png": "[encoded data removed]",
      "text/plain": [
       "<IPython.core.display.Image object>"
      ]
     },
     "jetTransient": {
      "display_id": null
     },
     "metadata": {},
     "output_type": "display_data"
    }
   ],
   "source": [
    "from langgraph.constants import START, END\n",
    "from IPython.core.display import Image\n",
    "from langgraph.prebuilt import ToolNode, tools_condition\n",
    "\n",
    "builder = StateGraph(MessagesState)\n",
    "builder.add_node(assistant, \"assistant\")\n",
    "builder.add_node(\"tools\", ToolNode(tools))\n",
    "\n",
    "builder.add_edge(START, \"assistant\")\n",
    "builder.add_conditional_edges(\"assistant\", tools_condition)\n",
    "\n",
    "builder.add_edge(\"tools\", \"assistant\")\n",
    "react_graph = builder.compile()\n",
    "\n",
    "display(Image(react_graph.get_graph(xray=True).draw_mermaid_png()))\n"
   ]
  },
  {
   "cell_type": "markdown",
   "id": "8bb67c1cb4f02164",
   "metadata": {},
   "source": [
    "## 3.Run the Graph"
   ]
  },
  {
   "cell_type": "code",
   "execution_count": 38,
   "id": "e592266e6866b96e",
   "metadata": {
    "ExecuteTime": {
     "end_time": "2025-10-05T13:35:25.041608Z",
     "start_time": "2025-10-05T13:35:12.096944Z"
    }
   },
   "outputs": [],
   "source": [
    "messages = [HumanMessage(content=\"What's the weight of the Earth?\")]\n",
    "\n",
    "messages = react_graph.invoke({\"messages\": messages})"
   ]
  },
  {
   "cell_type": "code",
   "execution_count": 43,
   "id": "504d437659b37d02",
   "metadata": {
    "ExecuteTime": {
     "end_time": "2025-10-05T13:38:18.060358Z",
     "start_time": "2025-10-05T13:38:18.056765Z"
    }
   },
   "outputs": [
    {
     "name": "stdout",
     "output_type": "stream",
     "text": [
      "================================\u001b[1m Human Message \u001b[0m=================================\n",
      "\n",
      "What's the weight of the Earth?\n",
      "==================================\u001b[1m Ai Message \u001b[0m==================================\n",
      "\n",
      "I'll search for information about the Earth's weight to provide you with an accurate answer.\n",
      "Tool Calls:\n",
      "  tavily_search (call_00_RNygeCBbWYrG4Np8vm8PmFWk)\n",
      " Call ID: call_00_RNygeCBbWYrG4Np8vm8PmFWk\n",
      "  Args:\n",
      "    query: weight of the Earth mass kilograms\n",
      "=================================\u001b[1m Tool Message \u001b[0m=================================\n",
      "Name: tavily_search\n",
      "\n",
      "{\"query\": \"weight of the Earth mass kilograms\", \"follow_up_questions\": null, \"answer\": \"The Earth's mass is approximately 5.9722 × 10^24 kilograms. This figure is the most precise estimate currently available. The uncertainty is very small, at 10^-4.\", \"images\": [], \"results\": [{\"url\": \"https://en.wikipedia.org/wiki/Earth_mass\", \"title\": \"Earth mass\", \"content\": \"The current best estimate for themassofEarthis M🜨 = 5.9722×1024kg, with a relative uncertainty of 10−4. It is equivalent to an average density of 5515kg/m\", \"score\": 0.8430832, \"raw_content\": null}, {\"url\": \"https://www.unitconverters.net/weight-and-mass/kilogram-to-earth-s-mass.htm\", \"title\": \"Convert Kilogram to Earth's Mass\", \"content\": \"Kilogram to Earth's Mass Conversion Table ; 20 kg,3.34672021419E-24 Earth's mass; 50 kg, 8.366800535475E-24 Earth's mass ; 100 kg, 1.673360107095E-23 Earth's\", \"score\": 0.79215926, \"raw_content\": null}, {\"url\": \"https://math.answers.com/math-and-arithmetic/What_is_the_weight_of_20_kg_on_Earth\", \"title\": \"What is the weight of 20 kg on Earth?\", \"content\": \"Sep 17, 2023—The weight of a 20 kg object is equivalent to196.2 Newtons on Earth(weight = mass x acceleration due to gravity, where acceleration due to\", \"score\": 0.7135319, \"raw_content\": null}, {\"url\": \"https://testbook.com/question-answer/what-is-the-mass-of-an-object-whose-weight-on-the--5f6220ce05209830091eb5f9\", \"title\": \"What is the mass of an object whose weight on the earth is ...\", \"content\": \"The correct answer is20 kg. Given, Weight (w) = 196 N , g = 9.8 ms-2 So, mass (m) = (w / g) = 20 kg. Important Points Mass is a measure of the amount.\", \"score\": 0.6836946, \"raw_content\": null}, {\"url\": \"https://brainly.com/question/19888821\", \"title\": \"What is the weight of a 20 kg object on Earth?\", \"content\": \"Dec 8, 2020—The weight of a 20 kg object on Earth is196 newtons, calculated using the formula W=mg.\", \"score\": 0.6762998, \"raw_content\": null}], \"response_time\": 2.09, \"request_id\": \"ec5776e3-1a99-4376-97b7-f019f341e7a8\"}\n",
      "==================================\u001b[1m Ai Message \u001b[0m==================================\n",
      "\n",
      "According to the search results, the Earth's mass is approximately **5.9722 × 10²⁴ kilograms**.\n",
      "\n",
      "To put this in perspective:\n",
      "- That's about 5,972,200,000,000,000,000,000,000 kg\n",
      "- This is the most precise estimate currently available with a very small uncertainty of 10⁻⁴\n",
      "- The Earth's mass corresponds to an average density of about 5,515 kg/m³\n",
      "\n",
      "It's worth noting that in scientific terms, we typically refer to the Earth's \"mass\" rather than \"weight\" since weight depends on gravitational forces, while mass is an intrinsic property of the object itself.\n"
     ]
    }
   ],
   "source": [
    "for message in messages['messages']:\n",
    "    message.pretty_print()"
   ]
  },
  {
   "cell_type": "code",
   "execution_count": 50,
   "id": "106925dc3ed26801",
   "metadata": {
    "ExecuteTime": {
     "end_time": "2025-10-05T13:54:22.844898Z",
     "start_time": "2025-10-05T13:54:11.566276Z"
    }
   },
   "outputs": [
    {
     "name": "stdout",
     "output_type": "stream",
     "text": [
      "================================\u001b[1m Human Message \u001b[0m=================================\n",
      "\n",
      "What's 400 multiplied by 5000, then later divded by 21.75?\n",
      "==================================\u001b[1m Ai Message \u001b[0m==================================\n",
      "\n",
      "I'll help you calculate this step by step. Let me first multiply 400 by 5000, then divide that result by 21.75.\n",
      "Tool Calls:\n",
      "  multiply (call_00_xW7JTc2f4QS3AsJ9mOBYmCkw)\n",
      " Call ID: call_00_xW7JTc2f4QS3AsJ9mOBYmCkw\n",
      "  Args:\n",
      "    a: 400\n",
      "    b: 5000\n",
      "=================================\u001b[1m Tool Message \u001b[0m=================================\n",
      "Name: multiply\n",
      "\n",
      "2000000.0\n",
      "==================================\u001b[1m Ai Message \u001b[0m==================================\n",
      "\n",
      "Now I'll divide 2,000,000 by 21.75:\n",
      "Tool Calls:\n",
      "  divide (call_00_cwxTFNNFAq07X2g94xYB3o54)\n",
      " Call ID: call_00_cwxTFNNFAq07X2g94xYB3o54\n",
      "  Args:\n",
      "    a: 2000000\n",
      "    b: 21.75\n",
      "=================================\u001b[1m Tool Message \u001b[0m=================================\n",
      "Name: divide\n",
      "\n",
      "91954.02298850575\n",
      "==================================\u001b[1m Ai Message \u001b[0m==================================\n",
      "\n",
      "The result of 400 multiplied by 5000, then divided by 21.75 is **91,954.02** (rounded to two decimal places).\n",
      "\n",
      "To break it down:\n",
      "- 400 × 5000 = 2,000,000\n",
      "- 2,000,000 ÷ 21.75 = 91,954.02298850575\n"
     ]
    }
   ],
   "source": [
    "messages = [HumanMessage(content=\"What's 400 multiplied by 5000, then later divded by 21.75?\")]\n",
    "messages = react_graph.invoke({\"messages\": messages})\n",
    "for message in messages['messages']:\n",
    "    message.pretty_print()"
   ]
  },
  {
   "cell_type": "markdown",
   "id": "e669e51295fa2e9a",
   "metadata": {},
   "source": [
    "## 4.Add Grading the response to the Agent"
   ]
  },
  {
   "cell_type": "code",
   "execution_count": 67,
   "id": "bbece5d1e78b2447",
   "metadata": {
    "ExecuteTime": {
     "end_time": "2025-10-05T14:26:06.712525Z",
     "start_time": "2025-10-05T14:26:06.708278Z"
    }
   },
   "outputs": [],
   "source": [
    "from langchain_community.chat_models.tongyi import ChatTongyi\n",
    "llm_grader = ChatTongyi(dashscope_api_key=config.DASHSCOPE_API_KEY)\n",
    "\n",
    "def grade_with_tongyi(state: MessagesState):\n",
    "    \"\"\"Grade the assistant's response with detailed evaluation criteria\"\"\"\n",
    "    messages = state[\"messages\"]\n",
    "\n",
    "    # Get the original question (first human message)\n",
    "    question = next((msg.content for msg in messages if isinstance(msg, HumanMessage)), \"\")\n",
    "\n",
    "    # Get the last assistant response\n",
    "    response = next((msg.content for msg in reversed(messages) if isinstance(msg, AIMessage)), \"\")\n",
    "\n",
    "    grading_prompt = f\"\"\"You are an expert evaluator assessing AI assistant responses. Evaluate the following response based on these criteria:\n",
    "    **Question:** {question}\n",
    "\n",
    "    **Response:** {response}\n",
    "\n",
    "    **Evaluation Criteria:**\n",
    "    1. **Accuracy**: Is the answer factually correct? Are calculations accurate?\n",
    "    2. **Completeness**: Does it fully address all parts of the question?\n",
    "    3. **Clarity**: Is the explanation clear and easy to understand?\n",
    "    4. **Relevance**: Does it stay on topic without unnecessary information?\n",
    "\n",
    "    **Instructions:**\n",
    "    - Provide a verdict: \"CORRECT\" or \"INCORRECT\"\n",
    "    - Give a confidence score (0-100%)\n",
    "    - Explain your reasoning in 2-3 sentences\n",
    "    - Point out specific issues if incorrect\n",
    "\n",
    "    **Format your response as:**\n",
    "    Verdict: [CORRECT/INCORRECT]\n",
    "    Confidence: [0-100]%\n",
    "    Reasoning: [Your explanation]\"\"\"\n",
    "\n",
    "    grading_result = llm_grader.invoke(grading_prompt)\n",
    "\n",
    "    # Return the grading result as a new message\n",
    "    return {\"messages\": [AIMessage(content=f\"Grading Result:\\n{grading_result.content}\")]}"
   ]
  },
  {
   "cell_type": "code",
   "execution_count": 68,
   "id": "a292252856331b73",
   "metadata": {
    "ExecuteTime": {
     "end_time": "2025-10-05T14:26:12.650574Z",
     "start_time": "2025-10-05T14:26:11.933907Z"
    }
   },
   "outputs": [
    {
     "data": {
      "image/png": "[encoded data removed]",
      "text/plain": [
       "<IPython.core.display.Image object>"
      ]
     },
     "jetTransient": {
      "display_id": null
     },
     "metadata": {},
     "output_type": "display_data"
    }
   ],
   "source": [
    "from langgraph.constants import START\n",
    "from IPython.core.display import Image\n",
    "from langgraph.prebuilt import ToolNode, tools_condition\n",
    "\n",
    "builder_1 = StateGraph(MessagesState)\n",
    "builder_1.add_node(assistant, \"assistant\")\n",
    "builder_1.add_node(\"tools\", ToolNode(tools))\n",
    "builder_1.add_node(\"grade_with_tongyi\", grade_with_tongyi)\n",
    "\n",
    "builder_1.add_edge(START, \"assistant\")\n",
    "builder_1.add_conditional_edges(\"assistant\", tools_condition,{\"tools\": \"tools\", \"__end__\": \"grade_with_tongyi\"})\n",
    "\n",
    "builder_1.add_edge(\"tools\", \"assistant\")\n",
    "builder_1.add_edge(\"grade_with_tongyi\", END)\n",
    "react_graph_1 = builder_1.compile()\n",
    "\n",
    "display(Image(react_graph_1.get_graph(xray=True).draw_mermaid_png()))"
   ]
  },
  {
   "cell_type": "code",
   "execution_count": 69,
   "id": "2c916a2d687dd3e1",
   "metadata": {
    "ExecuteTime": {
     "end_time": "2025-10-05T14:26:32.049961Z",
     "start_time": "2025-10-05T14:26:17.508668Z"
    }
   },
   "outputs": [
    {
     "name": "stdout",
     "output_type": "stream",
     "text": [
      "================================\u001b[1m Human Message \u001b[0m=================================\n",
      "\n",
      "What's 400 multiplied by 5000, then later divded by 21.75?\n",
      "==================================\u001b[1m Ai Message \u001b[0m==================================\n",
      "\n",
      "I'll help you calculate this step by step. Let me first multiply 400 by 5000, then divide the result by 21.75.\n",
      "Tool Calls:\n",
      "  multiply (call_00_51YpZZajEpOfno8j0u8H4Ouk)\n",
      " Call ID: call_00_51YpZZajEpOfno8j0u8H4Ouk\n",
      "  Args:\n",
      "    a: 400\n",
      "    b: 5000\n",
      "=================================\u001b[1m Tool Message \u001b[0m=================================\n",
      "Name: multiply\n",
      "\n",
      "2000000.0\n",
      "==================================\u001b[1m Ai Message \u001b[0m==================================\n",
      "\n",
      "Now I'll divide 2,000,000 by 21.75:\n",
      "Tool Calls:\n",
      "  divide (call_00_Ko7xYnaQTfxbZRHxNPJTTHLb)\n",
      " Call ID: call_00_Ko7xYnaQTfxbZRHxNPJTTHLb\n",
      "  Args:\n",
      "    a: 2000000\n",
      "    b: 21.75\n",
      "=================================\u001b[1m Tool Message \u001b[0m=================================\n",
      "Name: divide\n",
      "\n",
      "91954.02298850575\n",
      "==================================\u001b[1m Ai Message \u001b[0m==================================\n",
      "\n",
      "The calculation is:\n",
      "\n",
      "400 × 5000 = 2,000,000\n",
      "2,000,000 ÷ 21.75 = 91,954.02298850575\n",
      "\n",
      "So 400 multiplied by 5000, then divided by 21.75 equals approximately **91,954.02** (rounded to two decimal places).\n",
      "==================================\u001b[1m Ai Message \u001b[0m==================================\n",
      "\n",
      "Grading Result:\n",
      "Verdict: CORRECT  \n",
      "Confidence: 95%  \n",
      "Reasoning: The response correctly calculates 400 × 5000 = 2,000,000 and then divides that by 21.75 to get approximately 91,954.02 when rounded to two decimal places. The calculation is accurate and the explanation is clear and complete. The minor confidence reduction is due to the lack of a note about rounding conventions, though this does not affect the correctness of the final answer.\n"
     ]
    }
   ],
   "source": [
    "messages = [HumanMessage(content=\"What's 400 multiplied by 5000, then later divded by 21.75?\")]\n",
    "messages = react_graph_1.invoke({\"messages\": messages})\n",
    "for message in messages['messages']:\n",
    "    message.pretty_print()\n",
    "\n"
   ]
  },
  {
   "cell_type": "markdown",
   "id": "e9c7bf75-1c70-4d7b-81a6-38d635af4b5e",
   "metadata": {},
   "source": [
    "## 5.Self-reflection Agent"
   ]
  },
  {
   "cell_type": "code",
   "execution_count": null,
   "id": "d77d5b60-8739-41df-8039-52097b9abe04",
   "metadata": {},
   "outputs": [],
   "source": [
    "from langgraph.constants import START\n",
    "from IPython.core.display import Image\n",
    "from langgraph.prebuilt import ToolNode, tools_condition\n",
    "\n",
    "builder_1 = StateGraph(MessagesState)\n",
    "builder_1.add_node(assistant, \"assistant\")\n",
    "builder_1.add_node(\"tools\", ToolNode(tools))\n",
    "builder_1.add_node(\"grade_with_tongyi\", grade_with_tongyi)\n",
    "\n",
    "builder_1.add_edge(START, \"assistant\")\n",
    "builder_1.add_conditional_edges(\"assistant\", tools_condition, {\"tools\": \"tools\", \"__end__\": \"grade_with_tongyi\"})\n",
    "\n",
    "builder_1.add_edge(\"tools\", \"assistant\")\n",
    "builder_1.add_conditional_edges(\"grade_with_tongyi\", END)\n",
    "react_graph_1 = builder_1.compile()\n",
    "\n",
    "display(Image(react_graph_1.get_graph(xray=True).draw_mermaid_png()))"
   ]
  }
 ],
 "metadata": {
  "kernelspec": {
   "display_name": "Python 3 (ipykernel)",
   "language": "python",
   "name": "python3"
  },
  "language_info": {
   "codemirror_mode": {
    "name": "ipython",
    "version": 3
   },
   "file_extension": ".py",
   "mimetype": "text/x-python",
   "name": "python",
   "nbconvert_exporter": "python",
   "pygments_lexer": "ipython3",
   "version": "3.12.10"
  }
 },
 "nbformat": 4,
 "nbformat_minor": 5
}
